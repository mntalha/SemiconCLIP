{
 "cells": [
  {
   "cell_type": "code",
   "execution_count": 18,
   "id": "65818a45",
   "metadata": {},
   "outputs": [],
   "source": [
    "# Load models and processors \n",
    "\n",
    "import os\n",
    "import sys\n",
    "import torch\n",
    "from transformers import AutoModelForCausalLM, AutoTokenizer"
   ]
  },
  {
   "cell_type": "code",
   "execution_count": 19,
   "id": "ad46f372",
   "metadata": {},
   "outputs": [],
   "source": [
    "import numpy as np\n",
    "import json\n",
    "def list_to_image(img_list, size=128):\n",
    "    \"\"\"\n",
    "    Convert a list to a 2D image of given size.\n",
    "    \"\"\"\n",
    "    return np.array(json.loads(img_list)).reshape(size, size)"
   ]
  },
  {
   "cell_type": "code",
   "execution_count": 20,
   "id": "9b255f00",
   "metadata": {},
   "outputs": [],
   "source": [
    "from clip import clip\n",
    "\n",
    "model, preprocess = clip.load('ViT-B/32', device='cuda:1')\n",
    "model = torch.load(\"./model/clip_finetuned.pt\", weights_only=False)\n",
    "processor = torch.load(\"./model/fine_tuned_clip_processor.pt\", weights_only=False)"
   ]
  },
  {
   "cell_type": "code",
   "execution_count": 21,
   "id": "94a4af88",
   "metadata": {},
   "outputs": [],
   "source": [
    "text_inputs = [\n",
    "    \"The chemical formula is ZnO. The mbj_bandgap value is 3.37.\",\n",
    "    \"The chemical formula is GaN. The mbj_bandgap value is 3.44.\",\n",
    "    \"The chemical formula is SiC. The mbj_bandgap value is 2.36.\",\n",
    "    \"The chemical formula is AlN. The mbj_bandgap value is 6.20.\",\n",
    "    \"The chemical formula is InP. The mbj_bandgap value is 1.42.\",\n",
    "    \"The chemical formula is CdTe. The mbj_bandgap value is 1.50.\",\n",
    "    \"The chemical formula is PbS. The mbj_bandgap value is 0.41.\",\n",
    "    \"The chemical formula is SnSe. The mbj_bandgap value is 0.90.\",\n",
    "    \"The chemical formula is Bi2Te3. The mbj_bandgap value is 0.30.\",\n",
    "    \"The chemical formula is MoS2. The mbj_bandgap value is 1.80.\",\n",
    "    \"The chemical formula is WS2. The mbj_bandgap value is 2.10.\",\n",
    "    \"The chemical formula is Cu2O. The mbj_bandgap value is 2.17.\",\n",
    "    \"The chemical formula is Fe2O3. The mbj_bandgap value is 2.10.\",\n",
    "    \"The chemical formula is TiO2. The mbj_bandgap value is 3.20.\",\n",
    "    \"The chemical formula is ZrO2. The mbj_bandgap value is 5.00.\",\n",
    "    \"The chemical formula is HfO2. The mbj_bandgap value is 5.30.\",\n",
    "    \"The chemical formula is SrTiO3. The mbj_bandgap value is 3.20.\",\n",
    "    \"The chemical formula is BaTiO3. The mbj_bandgap value is 3.18.\",\n",
    "    \"The chemical formula is NaNbO3. The mbj_bandgap value is 3.90.\",\n",
    "    \"The chemical formula is KNbO3. The mbj_bandgap value is 3.65.\",\n",
    "    \"The chemical formula is MgO. The mbj_bandgap value is 7.80.\",\n",
    "    \"The chemical formula is CaO. The mbj_bandgap value is 7.10.\",\n",
    "    \"The chemical formula is BeO. The mbj_bandgap value is 10.60.\",\n",
    "    \"The chemical formula is SrO. The mbj_bandgap value is 5.90.\",\n",
    "    \"The chemical formula is LaAlO3. The mbj_bandgap value is 5.60.\",\n",
    "    \"The chemical formula is Y2O3. The mbj_bandgap value is 5.50.\",\n",
    "    \"The chemical formula is Al2O3. The mbj_bandgap value is 8.70.\",\n",
    "    \"The chemical formula is Te3SeO8. The mbj_bandgap value is 4.382.\",\n",
    "    \"The chemical formula is SiO2. The mbj_bandgap value is 9.00.\",\n",
    "    \"The chemical formula is GeO2. The mbj_bandgap value is 5.40.\",\n",
    "    \"The chemical formula is SnO2. The mbj_bandgap value is 3.60.\",\n",
    "    \"The chemical formula is Sb2O3. The mbj_bandgap value is 3.20.\",\n",
    "    \"The chemical formula is Bi2O3. The mbj_bandgap value is 2.80.\",\n",
    "    \"The chemical formula is CeO2. The mbj_bandgap value is 3.10.\",\n",
    "    \"The chemical formula is VO2. The mbj_bandgap value is 0.70.\",\n",
    "    \"The chemical formula is Nb2O5. The mbj_bandgap value is 3.50.\",\n",
    "    \"The chemical formula is Ta2O5. The mbj_bandgap value is 4.20.\",\n",
    "    \"The chemical formula is WO3. The mbj_bandgap value is 2.60.\",\n",
    "    \"The chemical formula is Cr2O3. The mbj_bandgap value is 3.40.\",\n",
    "    \"The chemical formula is MnO2. The mbj_bandgap value is 1.30.\",\n",
    "    \"The chemical formula is Co3O4. The mbj_bandgap value is 1.60.\",\n",
    "    \"The chemical formula is NiO. The mbj_bandgap value is 4.00.\",\n",
    "    \"The chemical formula is CuO. The mbj_bandgap value is 1.70.\",\n",
    "    \"The chemical formula is ZnS. The mbj_bandgap value is 3.60.\",\n",
    "    \"The chemical formula is CdS. The mbj_bandgap value is 2.42.\",\n",
    "    \"The chemical formula is HgS. The mbj_bandgap value is 2.10.\",\n",
    "    \"The chemical formula is InAs. The mbj_bandgap value is 0.36.\",\n",
    "    \"The chemical formula is GaAs. The mbj_bandgap value is 1.52.\",\n",
    "    \"The chemical formula is GaSb. The mbj_bandgap value is 0.72.\",\n",
    "    \"The chemical formula is InSb. The mbj_bandgap value is 0.17.\"\n",
    "]\n",
    "text_inputs_tokens = clip.tokenize(text_inputs).to(\"cuda:1\")"
   ]
  },
  {
   "cell_type": "code",
   "execution_count": 22,
   "id": "2003bda1",
   "metadata": {},
   "outputs": [],
   "source": [
    "import pandas as pd\n",
    "\n",
    "data_train = pd.read_csv('./dataset/alpaca_mbj_bandgap_train.csv') # Load your training data if needed\n"
   ]
  },
  {
   "cell_type": "code",
   "execution_count": 23,
   "id": "5e2f5221",
   "metadata": {},
   "outputs": [],
   "source": [
    "from PIL import Image\n"
   ]
  },
  {
   "cell_type": "code",
   "execution_count": 24,
   "id": "285afc49",
   "metadata": {},
   "outputs": [],
   "source": [
    "sample_img, sample_text = data_train['image'][0], data_train['input'][0]\n",
    "sample_img = preprocess(Image.fromarray(list_to_image(sample_img))).unsqueeze(0).to(\"cuda:1\")"
   ]
  },
  {
   "cell_type": "code",
   "execution_count": 25,
   "id": "3ea2d899",
   "metadata": {},
   "outputs": [],
   "source": [
    "# Calculate features\n",
    "model.to(\"cuda:1\")\n",
    "with torch.no_grad():\n",
    "    text_features = model.encode_text(text_inputs_tokens)\n",
    "    image_features = model.encode_image(sample_img)"
   ]
  },
  {
   "cell_type": "code",
   "execution_count": 26,
   "id": "cfb91d7d",
   "metadata": {},
   "outputs": [
    {
     "name": "stdout",
     "output_type": "stream",
     "text": [
      "\n",
      "Top predictions:\n",
      "\n",
      "index: 8  The chemical formula is Bi2Te3. The mbj_bandgap value is 0.30. 19.57%\n",
      "index: 15  The chemical formula is HfO2. The mbj_bandgap value is 5.30. 11.50%\n",
      "index: 27  The chemical formula is Te3SeO8. The mbj_bandgap value is 4.382. 9.84%\n",
      "index: 36  The chemical formula is Ta2O5. The mbj_bandgap value is 4.20. 6.76%\n",
      "index: 10  The chemical formula is WS2. The mbj_bandgap value is 2.10. 6.76%\n",
      "index: 32  The chemical formula is Bi2O3. The mbj_bandgap value is 2.80. 6.66%\n",
      "index: 45  The chemical formula is HgS. The mbj_bandgap value is 2.10. 4.57%\n",
      "index: 47  The chemical formula is GaAs. The mbj_bandgap value is 1.52. 4.36%\n",
      "index: 49  The chemical formula is InSb. The mbj_bandgap value is 0.17. 4.17%\n",
      "index: 31  The chemical formula is Sb2O3. The mbj_bandgap value is 3.20. 4.10%\n"
     ]
    }
   ],
   "source": [
    "# Pick the top 5 most similar labels for the image\n",
    "image_features /= image_features.norm(dim=-1, keepdim=True)\n",
    "text_features /= text_features.norm(dim=-1, keepdim=True)\n",
    "similarity = (100.0 * image_features @ text_features.T).softmax(dim=-1)\n",
    "values, indices = similarity[0].topk(10)\n",
    "\n",
    "# Print the result\n",
    "print(\"\\nTop predictions:\\n\")\n",
    "for value, index in zip(values, indices):\n",
    "    print(f\"index: {index}  {text_inputs[index]} {100 * value.item():.2f}%\")\n",
    "    "
   ]
  },
  {
   "cell_type": "code",
   "execution_count": 27,
   "id": "2c5e22a0",
   "metadata": {},
   "outputs": [
    {
     "data": {
      "text/plain": [
       "'The chemical formula is Te3SeO8. The  mbj_bandgap value is 4.382.'"
      ]
     },
     "execution_count": 27,
     "metadata": {},
     "output_type": "execute_result"
    }
   ],
   "source": [
    "sample_text"
   ]
  },
  {
   "cell_type": "code",
   "execution_count": null,
   "id": "fe4ce248",
   "metadata": {},
   "outputs": [],
   "source": []
  }
 ],
 "metadata": {
  "kernelspec": {
   "display_name": "Python 3",
   "language": "python",
   "name": "python3"
  },
  "language_info": {
   "codemirror_mode": {
    "name": "ipython",
    "version": 3
   },
   "file_extension": ".py",
   "mimetype": "text/x-python",
   "name": "python",
   "nbconvert_exporter": "python",
   "pygments_lexer": "ipython3",
   "version": "3.10.16"
  }
 },
 "nbformat": 4,
 "nbformat_minor": 5
}
